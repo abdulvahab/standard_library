{
 "cells": [
  {
   "cell_type": "markdown",
   "metadata": {},
   "source": [
    "# *args and **kwargs"
   ]
  },
  {
   "cell_type": "code",
   "execution_count": null,
   "metadata": {},
   "outputs": [],
   "source": [
    "def print_args(arg1, *args, **kwargs):\n",
    "    print(arg1)\n",
    "    for arg in args:\n",
    "        print(arg)\n",
    "    for k, v in kwargs.items():\n",
    "        print(f\"{k} = {v}\")\n",
    "args = (2,3,4,5,6)\n",
    "kwargs = {'six':6, 'seven':7, 'eight':8, 'nine':9, 'ten':10}\n",
    "\n",
    "print_args(1, args, kwargs)\n"
   ]
  },
  {
   "cell_type": "markdown",
   "metadata": {},
   "source": [
    "# Generators"
   ]
  },
  {
   "cell_type": "code",
   "execution_count": null,
   "metadata": {},
   "outputs": [],
   "source": [
    "my_name = \"Abdulvahab Kharadi\"\n",
    "iter_my_name = iter(my_name)\n",
    "for letter in iter_my_name:\n",
    "    print(letter)"
   ]
  },
  {
   "cell_type": "code",
   "execution_count": null,
   "metadata": {},
   "outputs": [],
   "source": [
    "def fib(n):\n",
    "    a = b = 1\n",
    "    for i in range(n):\n",
    "        yield a\n",
    "        a , b = b, a+b\n",
    "results = fib(10)     \n",
    "for result in results:\n",
    "    print(result)"
   ]
  },
  {
   "cell_type": "markdown",
   "metadata": {},
   "source": [
    "# One Liners in Python"
   ]
  },
  {
   "cell_type": "markdown",
   "metadata": {},
   "source": [
    "## Create class attributes in One line"
   ]
  },
  {
   "cell_type": "code",
   "execution_count": null,
   "metadata": {},
   "outputs": [],
   "source": [
    "class A(object):\n",
    "    def __init__(self, a, b, c, d, e, f):\n",
    "        self.__dict__.update({k: v for k, v in locals().items() if k != 'self'})\n",
    "\n",
    "a=A('a','b','c','d','e','f')\n",
    "print(a.b)\n",
    "\n"
   ]
  }
 ],
 "metadata": {
  "kernelspec": {
   "display_name": "Python 3",
   "language": "python",
   "name": "python3"
  },
  "language_info": {
   "codemirror_mode": {
    "name": "ipython",
    "version": 3
   },
   "file_extension": ".py",
   "mimetype": "text/x-python",
   "name": "python",
   "nbconvert_exporter": "python",
   "pygments_lexer": "ipython3",
   "version": "3.8.5-final"
  }
 },
 "nbformat": 4,
 "nbformat_minor": 4
}