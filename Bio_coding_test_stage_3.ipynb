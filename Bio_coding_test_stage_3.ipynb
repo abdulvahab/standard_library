{
  "nbformat": 4,
  "nbformat_minor": 0,
  "metadata": {
    "colab": {
      "name": "Bio coding test - stage 3",
      "provenance": [],
      "collapsed_sections": []
    },
    "kernelspec": {
      "name": "python3",
      "display_name": "Python 3"
    }
  },
  "cells": [
    {
      "cell_type": "code",
      "metadata": {
        "id": "VfYHPu4LvB_v",
        "colab": {
          "base_uri": "https://localhost:8080/"
        },
        "outputId": "177c0f8a-03f6-44e9-a6f6-ec6aa6ce3250"
      },
      "source": [
        "import os\n",
        "\n",
        "def get_env(env_name, is_required=True, default=None, is_bool=False):\n",
        "    \"\"\"\n",
        "    Gets a variable from the environment.\n",
        "    :param env_name: name of the environment variable\n",
        "    :param is_required: True if the variable is required, False otherwise\n",
        "    :param is_bool: True if the variable is a boolean variable\n",
        "                    (represented by integer values 0 or 1)\n",
        "    :param default: a default value for the variable\n",
        "    :return: if the variable is set and not is_bool: the value of the variable\n",
        "             if the variable is set and is_bool: False for a value of 0 and True for a value of 1\n",
        "             if the variable is not set and not required: the default value\n",
        "             if the variable is not set and not required and no default value is specified and is_bool: False\n",
        "             if the variable is not set and not required and no default value is specified and not is_bool: None\n",
        "    :raises Exception: if the variable is required but not set\n",
        "    \"\"\"\n",
        "    #bool_map = {'0':'False', '1':'True'}\n",
        "    \n",
        "    if env_name in os.environ.keys():\n",
        "      value = os.getenv(env_name)\n",
        "      if is_bool:\n",
        "        value = bool(int(value))\n",
        "    else:\n",
        "      if is_required: \n",
        "        raise KeyValueError\n",
        "      else:\n",
        "        if default == None:\n",
        "          if is_bool:\n",
        "            default = False\n",
        "        value = default\n",
        "    print(value)    \n",
        "    return value\n",
        "\n",
        "# TESTS\n",
        "\n",
        "os.environ['USERNAME'] = 'sam'\n",
        "\n",
        "assert get_env('USERNAME') == 'sam'\n",
        "assert get_env('USERNAME', is_required=False) == 'sam'\n",
        "assert get_env('DOES_NOT_EXIST', is_required=False) is None\n",
        "assert get_env('DOES_NOT_EXIST', is_required=False, default='default_value') == 'default_value'\n",
        "assert get_env('DOES_NOT_EXIST', is_required=False, default=False) is False\n",
        "\n",
        "try:\n",
        "    get_env('DOES_NOT_EXIST', is_required=True)\n",
        "except BaseException as e:\n",
        "    pass\n",
        "else:\n",
        "    raise AssertionError('get_env should have raised an exception')\n",
        "\n",
        "try:\n",
        "    get_env('DOES_NOT_EXIST', is_required=True, default='shouldnt_matter')\n",
        "except BaseException as e:\n",
        "    pass\n",
        "else:\n",
        "    raise AssertionError('get_env should have raised an exception')\n",
        "\n",
        "os.environ['ZERO'] = '0'\n",
        "os.environ['ONE'] = '1'\n",
        "\n",
        "\n",
        "assert get_env('ZERO', is_bool=True) is False\n",
        "assert get_env('ZERO', is_bool=False) == '0'\n",
        "assert get_env('ZERO', is_bool=True, is_required=True) is False\n",
        "assert get_env('ZERO', is_bool=True, is_required=True, default=True) is False\n",
        "\n",
        "\n",
        "assert get_env('ONE', is_bool=True) is True\n",
        "assert get_env('ONE', is_bool=False) == '1'\n",
        "assert get_env('ONE', is_bool=True, is_required=True) is True\n",
        "assert get_env('ONE', is_bool=True, is_required=True, default=False) is True\n",
        "\n",
        "assert get_env('DOES_NOT_EXIST', is_bool=True, is_required=False) is False\n",
        "assert get_env('DOES_NOT_EXIST', is_bool=True, is_required=False, default=True) is True\n",
        "\n",
        "os.environ['EMPTY'] = ''\n",
        "assert get_env('EMPTY', is_required=True, default='some_value') == ''\n",
        "\n",
        "print('all tests pass')\n"
      ],
      "execution_count": 20,
      "outputs": [
        {
          "output_type": "stream",
          "text": [
            "sam\n",
            "sam\n",
            "None\n",
            "default_value\n",
            "False\n",
            "False\n",
            "0\n",
            "False\n",
            "False\n",
            "True\n",
            "1\n",
            "True\n",
            "True\n",
            "False\n",
            "True\n",
            "\n",
            "all tests pass\n"
          ],
          "name": "stdout"
        }
      ]
    },
    {
      "cell_type": "code",
      "metadata": {
        "id": "zfLG5lCULvhb"
      },
      "source": [
        ""
      ],
      "execution_count": null,
      "outputs": []
    },
    {
      "cell_type": "code",
      "metadata": {
        "id": "wDEEdKLbLvvd"
      },
      "source": [
        ""
      ],
      "execution_count": null,
      "outputs": []
    }
  ]
}